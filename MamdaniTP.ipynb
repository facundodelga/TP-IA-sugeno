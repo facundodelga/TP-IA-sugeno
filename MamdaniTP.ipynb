{
  "nbformat": 4,
  "nbformat_minor": 0,
  "metadata": {
    "colab": {
      "provenance": []
    },
    "kernelspec": {
      "name": "python3",
      "display_name": "Python 3"
    },
    "language_info": {
      "name": "python"
    }
  },
  "cells": [
    {
      "cell_type": "markdown",
      "source": [
        "Le proponen automatizar el trabajo de un calderista. Sus variables son:\n",
        "\n",
        "*   La **TEMPERATURA EXTERIOR** (exterior a la caldera, es decir, la temperatura de las habitaciones del edificio)\n",
        "*   La **TEMPERATURA INTERIOR** (de la caldera)\n",
        "*   El tamaño de la llama (**COMBUSTION**).\n",
        "\n",
        "\n",
        "\n",
        "*   Cuando la **TEMPERATURA EXTERIOR** es **BAJA** , la **COMBUSTION** debe ser **ALTA**.\n",
        "*   Cuando la **TEMPERATURA EXTERIOR** es **MEDIA**, la **COMBUSTION** debe ser **MODERADA**\n",
        "*   Cuando la **TEMPERATURA EXTERIOR** es **ALTA**, la **COMBUSTION** debe estar en **PILOTO**.\n",
        "*   Cuando la **TEMPERATURA INTERIOR** sea **ALTA**, la **COMBUSTION** debe **LIMITARSE LIGERAMENTE**\n",
        "*   Cuando la **TEMPERATURA INTERIOR** sea **CRITICA**, la **COMBUSTION** debe ser **REDUCIDA**\n",
        "*   Si la **TEMPERATURA INTERIOR** no es **ALTA o CRITICA**, **no debería interesarnos**\n",
        "\n",
        "Explicite las reglas que ha elegido para esta tarea, y de ejemplos de valores de entrada y salida."
      ],
      "metadata": {
        "id": "APjKY4jtaXyS"
      }
    },
    {
      "cell_type": "code",
      "execution_count": null,
      "metadata": {
        "id": "_Y3VRbOuT5YT"
      },
      "outputs": [],
      "source": [
        "!pip install scikit-fuzzy"
      ]
    },
    {
      "cell_type": "code",
      "source": [
        "import numpy as np\n",
        "import matplotlib.pyplot as plt\n",
        "import skfuzzy as fuzz"
      ],
      "metadata": {
        "id": "vmaCHDOxaGm3"
      },
      "execution_count": null,
      "outputs": []
    },
    {
      "cell_type": "code",
      "source": [
        "#Rango de variables de entrada\n",
        "t_ext = np.arrange(-20, 50, 1)\n",
        "t_int = np.arrange(30, 100, 1)\n",
        "\n",
        "#Rango de variable de salida\n",
        "combustion = np.arrange(-5,10)\n",
        "\n",
        "#Funcion de pertenencia de temperatura exterior\n",
        "t_ext_baja = fuzz.gaussmf(t_ext,[-20,10])\n",
        "t_ext_media = fuzz.gaussmf(t_ext,[11,22])\n",
        "t_ext_alta = fuzz.gaussmf(t_ext,[23,50])\n",
        "\n",
        "#Funcion de pertenencia de temperatura interior\n",
        "t_int_baja = fuzz.gaussmf(t_int,[30,50])\n",
        "t_int_alta = fuzz.gaussmf(t_int,[51,70])\n",
        "t_int_critica = fuzz.gaussmf(t_int,[71,100])\n",
        "\n",
        "\n"
      ],
      "metadata": {
        "id": "NwRH67n7aQBy"
      },
      "execution_count": null,
      "outputs": []
    }
  ]
}